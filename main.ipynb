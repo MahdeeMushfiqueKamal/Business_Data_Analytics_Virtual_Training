{
 "cells": [
  {
   "attachments": {},
   "cell_type": "markdown",
   "metadata": {},
   "source": [
    "## Importing Libraries and Data"
   ]
  },
  {
   "cell_type": "code",
   "execution_count": 5,
   "metadata": {},
   "outputs": [
    {
     "name": "stderr",
     "output_type": "stream",
     "text": [
      "[nltk_data] Downloading package punkt to /home/mmk/nltk_data...\n",
      "[nltk_data]   Package punkt is already up-to-date!\n",
      "[nltk_data] Downloading package wordnet to /home/mmk/nltk_data...\n",
      "[nltk_data]   Package wordnet is already up-to-date!\n",
      "[nltk_data] Downloading package stopwords to /home/mmk/nltk_data...\n",
      "[nltk_data]   Package stopwords is already up-to-date!\n"
     ]
    }
   ],
   "source": [
    "import numpy as np\n",
    "import pandas as pd\n",
    "import matplotlib.pyplot as plt\n",
    "import seaborn as sns\n",
    "import re\n",
    "import nltk\n",
    "from nltk.stem import PorterStemmer\n",
    "from nltk.stem import WordNetLemmatizer\n",
    "from nltk.corpus import stopwords\n",
    "\n",
    "# Download the NLTK stemmer data\n",
    "nltk.download(\"punkt\")\n",
    "# Download the NLTK lemmatizer data\n",
    "nltk.download(\"wordnet\")\n",
    "# Download the stop words\n",
    "nltk.download(\"stopwords\")\n",
    "stop_words = set(stopwords.words(\"english\"))"
   ]
  },
  {
   "cell_type": "code",
   "execution_count": 6,
   "metadata": {},
   "outputs": [],
   "source": [
    "sns.set_style('darkgrid')"
   ]
  },
  {
   "cell_type": "code",
   "execution_count": 7,
   "metadata": {},
   "outputs": [],
   "source": [
    "def stem_token(token):\n",
    "    stemmer = PorterStemmer()\n",
    "    return stemmer.stem(token)\n",
    "\n",
    "\n",
    "def lemmatize_token(token):\n",
    "    lemmatizer = WordNetLemmatizer()\n",
    "    return lemmatizer.lemmatize(token)"
   ]
  },
  {
   "cell_type": "code",
   "execution_count": 8,
   "metadata": {},
   "outputs": [],
   "source": [
    "df_original = pd.read_csv(\"Transaction_Naration_Data_Set.csv\")"
   ]
  },
  {
   "cell_type": "code",
   "execution_count": null,
   "metadata": {},
   "outputs": [
    {
     "name": "stdout",
     "output_type": "stream",
     "text": [
      "Shape:  (22546758, 6)\n",
      "<class 'pandas.core.frame.DataFrame'>\n",
      "RangeIndex: 22546758 entries, 0 to 22546757\n",
      "Data columns (total 6 columns):\n",
      " #   Column      Dtype  \n",
      "---  ------      -----  \n",
      " 0   Unnamed: 0  int64  \n",
      " 1   AC_ID       int64  \n",
      " 2   AMOUNT      float64\n",
      " 3   DOC_DATE    object \n",
      " 4   NARATION    object \n",
      " 5   DR_CR       object \n",
      "dtypes: float64(1), int64(2), object(3)\n",
      "memory usage: 1.0+ GB\n",
      "Info:\n",
      " None\n"
     ]
    }
   ],
   "source": [
    "print(\"Shape: \", df_original.shape)\n",
    "print(\"Info:\\n\", df_original.info())"
   ]
  },
  {
   "cell_type": "code",
   "execution_count": 9,
   "metadata": {},
   "outputs": [
    {
     "data": {
      "text/html": [
       "<div>\n",
       "<style scoped>\n",
       "    .dataframe tbody tr th:only-of-type {\n",
       "        vertical-align: middle;\n",
       "    }\n",
       "\n",
       "    .dataframe tbody tr th {\n",
       "        vertical-align: top;\n",
       "    }\n",
       "\n",
       "    .dataframe thead th {\n",
       "        text-align: right;\n",
       "    }\n",
       "</style>\n",
       "<table border=\"1\" class=\"dataframe\">\n",
       "  <thead>\n",
       "    <tr style=\"text-align: right;\">\n",
       "      <th></th>\n",
       "      <th>Unnamed: 0</th>\n",
       "      <th>AC_ID</th>\n",
       "      <th>AMOUNT</th>\n",
       "      <th>DOC_DATE</th>\n",
       "      <th>NARATION</th>\n",
       "      <th>DR_CR</th>\n",
       "    </tr>\n",
       "  </thead>\n",
       "  <tbody>\n",
       "    <tr>\n",
       "      <th>14767883</th>\n",
       "      <td>14767883</td>\n",
       "      <td>904831</td>\n",
       "      <td>3000.0</td>\n",
       "      <td>23-FEB-23</td>\n",
       "      <td>Project (Social Safety Net Payment) Payment to...</td>\n",
       "      <td>Credit</td>\n",
       "    </tr>\n",
       "    <tr>\n",
       "      <th>4375287</th>\n",
       "      <td>4375287</td>\n",
       "      <td>81778</td>\n",
       "      <td>2164.0</td>\n",
       "      <td>30-NOV-22</td>\n",
       "      <td>Debit Against Company Fund Collection (MetLife...</td>\n",
       "      <td>Debit</td>\n",
       "    </tr>\n",
       "    <tr>\n",
       "      <th>17560796</th>\n",
       "      <td>17560796</td>\n",
       "      <td>510793</td>\n",
       "      <td>20000.0</td>\n",
       "      <td>20-MAR-23</td>\n",
       "      <td>Cash Withdraw</td>\n",
       "      <td>Debit</td>\n",
       "    </tr>\n",
       "    <tr>\n",
       "      <th>2523931</th>\n",
       "      <td>2523931</td>\n",
       "      <td>3955754</td>\n",
       "      <td>1000.0</td>\n",
       "      <td>10-NOV-22</td>\n",
       "      <td>Cash Deposit</td>\n",
       "      <td>Credit</td>\n",
       "    </tr>\n",
       "    <tr>\n",
       "      <th>20500119</th>\n",
       "      <td>20500119</td>\n",
       "      <td>570529</td>\n",
       "      <td>10.0</td>\n",
       "      <td>16-APR-23</td>\n",
       "      <td>Debit Against Debit Card Charge Transaction</td>\n",
       "      <td>Debit</td>\n",
       "    </tr>\n",
       "  </tbody>\n",
       "</table>\n",
       "</div>"
      ],
      "text/plain": [
       "          Unnamed: 0    AC_ID   AMOUNT   DOC_DATE  \\\n",
       "14767883    14767883   904831   3000.0  23-FEB-23   \n",
       "4375287      4375287    81778   2164.0  30-NOV-22   \n",
       "17560796    17560796   510793  20000.0  20-MAR-23   \n",
       "2523931      2523931  3955754   1000.0  10-NOV-22   \n",
       "20500119    20500119   570529     10.0  16-APR-23   \n",
       "\n",
       "                                                   NARATION   DR_CR  \n",
       "14767883  Project (Social Safety Net Payment) Payment to...  Credit  \n",
       "4375287   Debit Against Company Fund Collection (MetLife...   Debit  \n",
       "17560796                                      Cash Withdraw   Debit  \n",
       "2523931                                        Cash Deposit  Credit  \n",
       "20500119        Debit Against Debit Card Charge Transaction   Debit  "
      ]
     },
     "metadata": {},
     "output_type": "display_data"
    }
   ],
   "source": [
    "# Randomly select 10000 rows from the DataFrame\n",
    "df = df_original.sample(n=10000)\n",
    "display(df.head())"
   ]
  },
  {
   "cell_type": "code",
   "execution_count": 10,
   "metadata": {},
   "outputs": [
    {
     "name": "stdout",
     "output_type": "stream",
     "text": [
      "<class 'pandas.core.frame.DataFrame'>\n",
      "Int64Index: 10000 entries, 14767883 to 9662654\n",
      "Data columns (total 6 columns):\n",
      " #   Column      Non-Null Count  Dtype  \n",
      "---  ------      --------------  -----  \n",
      " 0   Unnamed: 0  10000 non-null  int64  \n",
      " 1   AC_ID       10000 non-null  int64  \n",
      " 2   AMOUNT      10000 non-null  float64\n",
      " 3   DOC_DATE    10000 non-null  object \n",
      " 4   NARATION    10000 non-null  object \n",
      " 5   DR_CR       10000 non-null  object \n",
      "dtypes: float64(1), int64(2), object(3)\n",
      "memory usage: 546.9+ KB\n"
     ]
    }
   ],
   "source": [
    "df.info()"
   ]
  },
  {
   "cell_type": "code",
   "execution_count": 11,
   "metadata": {},
   "outputs": [],
   "source": [
    "# drop the index column\n",
    "df = df.drop(columns=[\"Unnamed: 0\"])"
   ]
  },
  {
   "cell_type": "code",
   "execution_count": 12,
   "metadata": {},
   "outputs": [],
   "source": [
    "# converting DOC_DATE to datetime object\n",
    "df[\"DOC_DATE\"] = pd.to_datetime(df[\"DOC_DATE\"])\n",
    "\n",
    "# converting NARATION and DR_CR to string\n",
    "df[\"NARATION\"] = df[\"NARATION\"].astype(str)\n",
    "df[\"DR_CR\"] = df[\"DR_CR\"].astype(str)"
   ]
  },
  {
   "cell_type": "code",
   "execution_count": 13,
   "metadata": {},
   "outputs": [
    {
     "name": "stdout",
     "output_type": "stream",
     "text": [
      "<class 'pandas.core.frame.DataFrame'>\n",
      "Int64Index: 10000 entries, 14767883 to 9662654\n",
      "Data columns (total 5 columns):\n",
      " #   Column    Non-Null Count  Dtype         \n",
      "---  ------    --------------  -----         \n",
      " 0   AC_ID     10000 non-null  int64         \n",
      " 1   AMOUNT    10000 non-null  float64       \n",
      " 2   DOC_DATE  10000 non-null  datetime64[ns]\n",
      " 3   NARATION  10000 non-null  object        \n",
      " 4   DR_CR     10000 non-null  object        \n",
      "dtypes: datetime64[ns](1), float64(1), int64(1), object(2)\n",
      "memory usage: 468.8+ KB\n"
     ]
    }
   ],
   "source": [
    "df.info()"
   ]
  },
  {
   "cell_type": "code",
   "execution_count": 14,
   "metadata": {},
   "outputs": [
    {
     "data": {
      "text/plain": [
       "Cash withdraw from Micro Merchant point, MM A/C                                                                                             1088\n",
       "Cash Withdrawal From A/C No.:                                                                                                               1027\n",
       "Credit Against Merchant Cash Withdraw Service From A/C-                                                                                     1018\n",
       "Debit Against Palli Bidyut Bill Collection.                                                                                                  998\n",
       "Cash Withdraw                                                                                                                                875\n",
       "                                                                                                                                            ... \n",
       "EFTN Transaction, Janata Bank Ltd., BANCHARAMPUR, A/C:                                                                                         1\n",
       "CAP (Smart App), NPSB Fund Transfer. Trf to ,ISLAMI BANK BANGLADESH LTD. fr BA (Charge)                                                        1\n",
       "AGENT BANKING CASH WITHDRAWAL, MIRPUR - BRANCH, Cheque # AE-                                                                                   1\n",
       "Up Chairmen & Members Honorarium Disbursement For The Month Of October, to December, from  (Uno Lakshmipur Sadar Chairman & Up Member\\n)       1\n",
       "AGENT BANKING CASH DEPOSIT, MIRPUR - BRANCH                                                                                                    1\n",
       "Name: NARATION, Length: 448, dtype: int64"
      ]
     },
     "execution_count": 14,
     "metadata": {},
     "output_type": "execute_result"
    }
   ],
   "source": [
    "df.NARATION.value_counts()"
   ]
  },
  {
   "cell_type": "code",
   "execution_count": 15,
   "metadata": {},
   "outputs": [
    {
     "data": {
      "text/plain": [
       "Debit     6163\n",
       "Credit    3837\n",
       "Name: DR_CR, dtype: int64"
      ]
     },
     "execution_count": 15,
     "metadata": {},
     "output_type": "execute_result"
    }
   ],
   "source": [
    "df.DR_CR.value_counts()"
   ]
  },
  {
   "attachments": {},
   "cell_type": "markdown",
   "metadata": {},
   "source": [
    "## Text Preprocessing"
   ]
  },
  {
   "cell_type": "code",
   "execution_count": 16,
   "metadata": {},
   "outputs": [],
   "source": [
    "# Lowercasing\n",
    "df[\"NARATION\"] = df[\"NARATION\"].str.lower()"
   ]
  },
  {
   "cell_type": "code",
   "execution_count": 17,
   "metadata": {},
   "outputs": [],
   "source": [
    "# Removing special characters\n",
    "df[\"NARATION\"] = df[\"NARATION\"].str.replace(r\"[^a-zA-Z\\s]\", \"\", regex=True)"
   ]
  },
  {
   "cell_type": "code",
   "execution_count": 18,
   "metadata": {},
   "outputs": [],
   "source": [
    "# Removing punctuations\n",
    "df[\"NARATION\"] = df[\"NARATION\"].str.replace(r\"[^\\w\\s]\", \"\", regex=True)"
   ]
  },
  {
   "cell_type": "code",
   "execution_count": 19,
   "metadata": {},
   "outputs": [],
   "source": [
    "# Tokenization on cleaned text\n",
    "df[\"NARATION_tokens\"] = df[\"NARATION\"].str.split()"
   ]
  },
  {
   "cell_type": "code",
   "execution_count": 20,
   "metadata": {},
   "outputs": [],
   "source": [
    "# Stemming\n",
    "df[\"stemmed_tokens\"] = df[\"NARATION_tokens\"].apply(\n",
    "    lambda tokens: [stem_token(token) for token in tokens]\n",
    ")"
   ]
  },
  {
   "cell_type": "code",
   "execution_count": 21,
   "metadata": {},
   "outputs": [],
   "source": [
    "# Lemmatization\n",
    "df[\"lemmatized_tokens\"] = df[\"NARATION_tokens\"].apply(\n",
    "    lambda tokens: [lemmatize_token(token) for token in tokens]\n",
    ")"
   ]
  },
  {
   "cell_type": "code",
   "execution_count": 22,
   "metadata": {},
   "outputs": [],
   "source": [
    "# Removing stop words from the 'stemmed_tokens' column\n",
    "df[\"stemmed_tokens\"] = df[\"stemmed_tokens\"].apply(\n",
    "    lambda tokens: [token for token in tokens if token not in stop_words]\n",
    ")"
   ]
  },
  {
   "cell_type": "code",
   "execution_count": 23,
   "metadata": {},
   "outputs": [],
   "source": [
    "# Removing stop words from the 'lemmatized_tokens' column\n",
    "df[\"lemmatized_tokens\"] = df[\"lemmatized_tokens\"].apply(\n",
    "    lambda tokens: [token for token in tokens if token not in stop_words]\n",
    ")"
   ]
  },
  {
   "cell_type": "code",
   "execution_count": 24,
   "metadata": {},
   "outputs": [
    {
     "data": {
      "text/html": [
       "<div>\n",
       "<style scoped>\n",
       "    .dataframe tbody tr th:only-of-type {\n",
       "        vertical-align: middle;\n",
       "    }\n",
       "\n",
       "    .dataframe tbody tr th {\n",
       "        vertical-align: top;\n",
       "    }\n",
       "\n",
       "    .dataframe thead th {\n",
       "        text-align: right;\n",
       "    }\n",
       "</style>\n",
       "<table border=\"1\" class=\"dataframe\">\n",
       "  <thead>\n",
       "    <tr style=\"text-align: right;\">\n",
       "      <th></th>\n",
       "      <th>AC_ID</th>\n",
       "      <th>AMOUNT</th>\n",
       "      <th>DOC_DATE</th>\n",
       "      <th>NARATION</th>\n",
       "      <th>DR_CR</th>\n",
       "      <th>NARATION_tokens</th>\n",
       "      <th>stemmed_tokens</th>\n",
       "      <th>lemmatized_tokens</th>\n",
       "    </tr>\n",
       "  </thead>\n",
       "  <tbody>\n",
       "    <tr>\n",
       "      <th>14767883</th>\n",
       "      <td>904831</td>\n",
       "      <td>3000.0</td>\n",
       "      <td>2023-02-23</td>\n",
       "      <td>project social safety net payment payment to ac</td>\n",
       "      <td>Credit</td>\n",
       "      <td>[project, social, safety, net, payment, paymen...</td>\n",
       "      <td>[project, social, safeti, net, payment, paymen...</td>\n",
       "      <td>[project, social, safety, net, payment, paymen...</td>\n",
       "    </tr>\n",
       "    <tr>\n",
       "      <th>4375287</th>\n",
       "      <td>81778</td>\n",
       "      <td>2164.0</td>\n",
       "      <td>2022-11-30</td>\n",
       "      <td>debit against company fund collection metlife ...</td>\n",
       "      <td>Debit</td>\n",
       "      <td>[debit, against, company, fund, collection, me...</td>\n",
       "      <td>[debit, compani, fund, collect, metlif, alico]</td>\n",
       "      <td>[debit, company, fund, collection, metlife, al...</td>\n",
       "    </tr>\n",
       "    <tr>\n",
       "      <th>17560796</th>\n",
       "      <td>510793</td>\n",
       "      <td>20000.0</td>\n",
       "      <td>2023-03-20</td>\n",
       "      <td>cash withdraw</td>\n",
       "      <td>Debit</td>\n",
       "      <td>[cash, withdraw]</td>\n",
       "      <td>[cash, withdraw]</td>\n",
       "      <td>[cash, withdraw]</td>\n",
       "    </tr>\n",
       "    <tr>\n",
       "      <th>2523931</th>\n",
       "      <td>3955754</td>\n",
       "      <td>1000.0</td>\n",
       "      <td>2022-11-10</td>\n",
       "      <td>cash deposit</td>\n",
       "      <td>Credit</td>\n",
       "      <td>[cash, deposit]</td>\n",
       "      <td>[cash, deposit]</td>\n",
       "      <td>[cash, deposit]</td>\n",
       "    </tr>\n",
       "    <tr>\n",
       "      <th>20500119</th>\n",
       "      <td>570529</td>\n",
       "      <td>10.0</td>\n",
       "      <td>2023-04-16</td>\n",
       "      <td>debit against debit card charge transaction</td>\n",
       "      <td>Debit</td>\n",
       "      <td>[debit, against, debit, card, charge, transact...</td>\n",
       "      <td>[debit, debit, card, charg, transact]</td>\n",
       "      <td>[debit, debit, card, charge, transaction]</td>\n",
       "    </tr>\n",
       "  </tbody>\n",
       "</table>\n",
       "</div>"
      ],
      "text/plain": [
       "            AC_ID   AMOUNT   DOC_DATE  \\\n",
       "14767883   904831   3000.0 2023-02-23   \n",
       "4375287     81778   2164.0 2022-11-30   \n",
       "17560796   510793  20000.0 2023-03-20   \n",
       "2523931   3955754   1000.0 2022-11-10   \n",
       "20500119   570529     10.0 2023-04-16   \n",
       "\n",
       "                                                   NARATION   DR_CR  \\\n",
       "14767883   project social safety net payment payment to ac   Credit   \n",
       "4375287   debit against company fund collection metlife ...   Debit   \n",
       "17560796                                      cash withdraw   Debit   \n",
       "2523931                                        cash deposit  Credit   \n",
       "20500119        debit against debit card charge transaction   Debit   \n",
       "\n",
       "                                            NARATION_tokens  \\\n",
       "14767883  [project, social, safety, net, payment, paymen...   \n",
       "4375287   [debit, against, company, fund, collection, me...   \n",
       "17560796                                   [cash, withdraw]   \n",
       "2523931                                     [cash, deposit]   \n",
       "20500119  [debit, against, debit, card, charge, transact...   \n",
       "\n",
       "                                             stemmed_tokens  \\\n",
       "14767883  [project, social, safeti, net, payment, paymen...   \n",
       "4375287      [debit, compani, fund, collect, metlif, alico]   \n",
       "17560796                                   [cash, withdraw]   \n",
       "2523931                                     [cash, deposit]   \n",
       "20500119              [debit, debit, card, charg, transact]   \n",
       "\n",
       "                                          lemmatized_tokens  \n",
       "14767883  [project, social, safety, net, payment, paymen...  \n",
       "4375287   [debit, company, fund, collection, metlife, al...  \n",
       "17560796                                   [cash, withdraw]  \n",
       "2523931                                     [cash, deposit]  \n",
       "20500119          [debit, debit, card, charge, transaction]  "
      ]
     },
     "execution_count": 24,
     "metadata": {},
     "output_type": "execute_result"
    }
   ],
   "source": [
    "df.head()"
   ]
  },
  {
   "attachments": {},
   "cell_type": "markdown",
   "metadata": {},
   "source": [
    "## Frequency of Tokens"
   ]
  },
  {
   "cell_type": "code",
   "execution_count": 29,
   "metadata": {},
   "outputs": [
    {
     "data": {
      "text/plain": [
       "<AxesSubplot: >"
      ]
     },
     "execution_count": 29,
     "metadata": {},
     "output_type": "execute_result"
    },
    {
     "data": {
      "image/png": "[encoded data removed]",
      "text/plain": [
       "<Figure size 1500x800 with 1 Axes>"
      ]
     },
     "metadata": {},
     "output_type": "display_data"
    }
   ],
   "source": [
    "all_tokens = []\n",
    "\n",
    "# Iterate over each list of tokens in df['lemmatized_tokens']\n",
    "for token_list in df['lemmatized_tokens']:\n",
    "    # Iterate over each token in the list and append it to all_tokens\n",
    "    for token in token_list:\n",
    "        all_tokens.append(token)\n",
    "\n",
    "from collections import Counter, OrderedDict\n",
    "occurrences = dict(Counter(all_tokens))\n",
    "sorted_occurrences = OrderedDict(sorted(occurrences.items(), key=lambda x: x[1], reverse=True))\n",
    "\n",
    "fig, axes = plt.subplots(1, figsize=(15,8))\n",
    "sns.barplot(y = list(sorted_occurrences.keys())[:45], x = list(sorted_occurrences.values())[:45], ax = axes, palette='prism_r')\n",
    "    "
   ]
  },
  {
   "cell_type": "markdown",
   "metadata": {},
   "source": [
    "## Word to vec"
   ]
  },
  {
   "cell_type": "code",
   "execution_count": 32,
   "metadata": {},
   "outputs": [],
   "source": [
    "from gensim.models import Word2Vec\n",
    "\n",
    "sentences = df['lemmatized_tokens'].tolist()\n",
    "model = Word2Vec(sentences, vector_size=100, window=5, min_count=1, workers=4)"
   ]
  },
  {
   "cell_type": "code",
   "execution_count": 33,
   "metadata": {},
   "outputs": [],
   "source": [
    "document_vectors = []\n",
    "for tokens in sentences:\n",
    "    # Initialize an empty vector\n",
    "    doc_vector = []\n",
    "    for token in tokens:\n",
    "        if token in model.wv:\n",
    "            # Retrieve the word vector for the token\n",
    "            word_vector = model.wv[token]\n",
    "            # Append the word vector to the document vector\n",
    "            doc_vector.append(word_vector)\n",
    "    \n",
    "    if len(doc_vector) > 0:\n",
    "        # Calculate the mean vector for the document\n",
    "        mean_vector = sum(doc_vector) / len(doc_vector)\n",
    "        # Append the mean vector to the list of document vectors\n",
    "        document_vectors.append(mean_vector)"
   ]
  },
  {
   "cell_type": "code",
   "execution_count": 36,
   "metadata": {},
   "outputs": [
    {
     "data": {
      "text/plain": [
       "10000"
      ]
     },
     "execution_count": 36,
     "metadata": {},
     "output_type": "execute_result"
    }
   ],
   "source": [
    "# sanity check \n",
    "len(document_vectors)"
   ]
  },
  {
   "attachments": {},
   "cell_type": "markdown",
   "metadata": {},
   "source": [
    "## Clustering"
   ]
  },
  {
   "cell_type": "code",
   "execution_count": 45,
   "metadata": {},
   "outputs": [],
   "source": [
    "k = 10"
   ]
  },
  {
   "cell_type": "code",
   "execution_count": 46,
   "metadata": {},
   "outputs": [],
   "source": [
    "from sklearn.cluster import KMeans\n",
    "\n",
    "kmeans = KMeans(n_clusters=k)\n",
    "kmeans.fit(document_vectors)\n",
    "cluster_labels = kmeans.labels_\n",
    "\n",
    "df['cluster_label'] = cluster_labels\n",
    "cluster_counts = df['cluster_label'].value_counts()"
   ]
  },
  {
   "cell_type": "code",
   "execution_count": 47,
   "metadata": {},
   "outputs": [
    {
     "data": {
      "text/plain": [
       "4    2991\n",
       "1    2949\n",
       "2    1027\n",
       "6     627\n",
       "5     626\n",
       "0     594\n",
       "9     429\n",
       "3     350\n",
       "7     294\n",
       "8     113\n",
       "Name: cluster_label, dtype: int64"
      ]
     },
     "execution_count": 47,
     "metadata": {},
     "output_type": "execute_result"
    }
   ],
   "source": [
    "cluster_counts"
   ]
  },
  {
   "cell_type": "code",
   "execution_count": 51,
   "metadata": {},
   "outputs": [
    {
     "ename": "ValueError",
     "evalue": "Only supported for TrueType fonts",
     "output_type": "error",
     "traceback": [
      "\u001b[0;31m---------------------------------------------------------------------------\u001b[0m",
      "\u001b[0;31mValueError\u001b[0m                                Traceback (most recent call last)",
      "\u001b[1;32m/home/mmk/codes/Business_Data_Analytics_Virtual_Training/main.ipynb Cell 34\u001b[0m in \u001b[0;36m9\n\u001b[1;32m      <a href='vscode-notebook-cell:/home/mmk/codes/Business_Data_Analytics_Virtual_Training/main.ipynb#X65sZmlsZQ%3D%3D?line=5'>6</a>\u001b[0m all_words \u001b[39m=\u001b[39m [word \u001b[39mfor\u001b[39;00m tokens \u001b[39min\u001b[39;00m cluster_transactions \u001b[39mfor\u001b[39;00m word \u001b[39min\u001b[39;00m tokens]\n\u001b[1;32m      <a href='vscode-notebook-cell:/home/mmk/codes/Business_Data_Analytics_Virtual_Training/main.ipynb#X65sZmlsZQ%3D%3D?line=7'>8</a>\u001b[0m font_path \u001b[39m=\u001b[39m \u001b[39m'\u001b[39m\u001b[39m/usr/share/fonts/truetype/dejavu/DejaVuSans.ttf\u001b[39m\u001b[39m'\u001b[39m\n\u001b[0;32m----> <a href='vscode-notebook-cell:/home/mmk/codes/Business_Data_Analytics_Virtual_Training/main.ipynb#X65sZmlsZQ%3D%3D?line=8'>9</a>\u001b[0m wordcloud \u001b[39m=\u001b[39m WordCloud(width\u001b[39m=\u001b[39;49m\u001b[39m800\u001b[39;49m, height\u001b[39m=\u001b[39;49m\u001b[39m400\u001b[39;49m, background_color\u001b[39m=\u001b[39;49m\u001b[39m'\u001b[39;49m\u001b[39mwhite\u001b[39;49m\u001b[39m'\u001b[39;49m, font_path\u001b[39m=\u001b[39;49mfont_path)\u001b[39m.\u001b[39;49mgenerate(\u001b[39m'\u001b[39;49m\u001b[39m \u001b[39;49m\u001b[39m'\u001b[39;49m\u001b[39m.\u001b[39;49mjoin(all_words))\n\u001b[1;32m     <a href='vscode-notebook-cell:/home/mmk/codes/Business_Data_Analytics_Virtual_Training/main.ipynb#X65sZmlsZQ%3D%3D?line=10'>11</a>\u001b[0m \u001b[39m# Plot the word cloud\u001b[39;00m\n\u001b[1;32m     <a href='vscode-notebook-cell:/home/mmk/codes/Business_Data_Analytics_Virtual_Training/main.ipynb#X65sZmlsZQ%3D%3D?line=11'>12</a>\u001b[0m plt\u001b[39m.\u001b[39mfigure(figsize\u001b[39m=\u001b[39m(\u001b[39m10\u001b[39m, \u001b[39m6\u001b[39m))\n",
      "File \u001b[0;32m~/.local/lib/python3.10/site-packages/wordcloud/wordcloud.py:639\u001b[0m, in \u001b[0;36mWordCloud.generate\u001b[0;34m(self, text)\u001b[0m\n\u001b[1;32m    624\u001b[0m \u001b[39mdef\u001b[39;00m \u001b[39mgenerate\u001b[39m(\u001b[39mself\u001b[39m, text):\n\u001b[1;32m    625\u001b[0m     \u001b[39m\"\"\"Generate wordcloud from text.\u001b[39;00m\n\u001b[1;32m    626\u001b[0m \n\u001b[1;32m    627\u001b[0m \u001b[39m    The input \"text\" is expected to be a natural text. If you pass a sorted\u001b[39;00m\n\u001b[0;32m   (...)\u001b[0m\n\u001b[1;32m    637\u001b[0m \u001b[39m    self\u001b[39;00m\n\u001b[1;32m    638\u001b[0m \u001b[39m    \"\"\"\u001b[39;00m\n\u001b[0;32m--> 639\u001b[0m     \u001b[39mreturn\u001b[39;00m \u001b[39mself\u001b[39;49m\u001b[39m.\u001b[39;49mgenerate_from_text(text)\n",
      "File \u001b[0;32m~/.local/lib/python3.10/site-packages/wordcloud/wordcloud.py:621\u001b[0m, in \u001b[0;36mWordCloud.generate_from_text\u001b[0;34m(self, text)\u001b[0m\n\u001b[1;32m    604\u001b[0m \u001b[39m\"\"\"Generate wordcloud from text.\u001b[39;00m\n\u001b[1;32m    605\u001b[0m \n\u001b[1;32m    606\u001b[0m \u001b[39mThe input \"text\" is expected to be a natural text. If you pass a sorted\u001b[39;00m\n\u001b[0;32m   (...)\u001b[0m\n\u001b[1;32m    618\u001b[0m \u001b[39mself\u001b[39;00m\n\u001b[1;32m    619\u001b[0m \u001b[39m\"\"\"\u001b[39;00m\n\u001b[1;32m    620\u001b[0m words \u001b[39m=\u001b[39m \u001b[39mself\u001b[39m\u001b[39m.\u001b[39mprocess_text(text)\n\u001b[0;32m--> 621\u001b[0m \u001b[39mself\u001b[39;49m\u001b[39m.\u001b[39;49mgenerate_from_frequencies(words)\n\u001b[1;32m    622\u001b[0m \u001b[39mreturn\u001b[39;00m \u001b[39mself\u001b[39m\n",
      "File \u001b[0;32m~/.local/lib/python3.10/site-packages/wordcloud/wordcloud.py:453\u001b[0m, in \u001b[0;36mWordCloud.generate_from_frequencies\u001b[0;34m(self, frequencies, max_font_size)\u001b[0m\n\u001b[1;32m    451\u001b[0m     font_size \u001b[39m=\u001b[39m \u001b[39mself\u001b[39m\u001b[39m.\u001b[39mheight\n\u001b[1;32m    452\u001b[0m \u001b[39melse\u001b[39;00m:\n\u001b[0;32m--> 453\u001b[0m     \u001b[39mself\u001b[39;49m\u001b[39m.\u001b[39;49mgenerate_from_frequencies(\u001b[39mdict\u001b[39;49m(frequencies[:\u001b[39m2\u001b[39;49m]),\n\u001b[1;32m    454\u001b[0m                                    max_font_size\u001b[39m=\u001b[39;49m\u001b[39mself\u001b[39;49m\u001b[39m.\u001b[39;49mheight)\n\u001b[1;32m    455\u001b[0m     \u001b[39m# find font sizes\u001b[39;00m\n\u001b[1;32m    456\u001b[0m     sizes \u001b[39m=\u001b[39m [x[\u001b[39m1\u001b[39m] \u001b[39mfor\u001b[39;00m x \u001b[39min\u001b[39;00m \u001b[39mself\u001b[39m\u001b[39m.\u001b[39mlayout_]\n",
      "File \u001b[0;32m~/.local/lib/python3.10/site-packages/wordcloud/wordcloud.py:508\u001b[0m, in \u001b[0;36mWordCloud.generate_from_frequencies\u001b[0;34m(self, frequencies, max_font_size)\u001b[0m\n\u001b[1;32m    505\u001b[0m transposed_font \u001b[39m=\u001b[39m ImageFont\u001b[39m.\u001b[39mTransposedFont(\n\u001b[1;32m    506\u001b[0m     font, orientation\u001b[39m=\u001b[39morientation)\n\u001b[1;32m    507\u001b[0m \u001b[39m# get size of resulting text\u001b[39;00m\n\u001b[0;32m--> 508\u001b[0m box_size \u001b[39m=\u001b[39m draw\u001b[39m.\u001b[39;49mtextbbox((\u001b[39m0\u001b[39;49m, \u001b[39m0\u001b[39;49m), word, font\u001b[39m=\u001b[39;49mtransposed_font, anchor\u001b[39m=\u001b[39;49m\u001b[39m\"\u001b[39;49m\u001b[39mlt\u001b[39;49m\u001b[39m\"\u001b[39;49m)\n\u001b[1;32m    509\u001b[0m \u001b[39m# find possible places using integral image:\u001b[39;00m\n\u001b[1;32m    510\u001b[0m result \u001b[39m=\u001b[39m occupancy\u001b[39m.\u001b[39msample_position(box_size[\u001b[39m3\u001b[39m] \u001b[39m+\u001b[39m \u001b[39mself\u001b[39m\u001b[39m.\u001b[39mmargin,\n\u001b[1;32m    511\u001b[0m                                    box_size[\u001b[39m2\u001b[39m] \u001b[39m+\u001b[39m \u001b[39mself\u001b[39m\u001b[39m.\u001b[39mmargin,\n\u001b[1;32m    512\u001b[0m                                    random_state)\n",
      "File \u001b[0;32m/usr/lib/python3/dist-packages/PIL/ImageDraw.py:671\u001b[0m, in \u001b[0;36mImageDraw.textbbox\u001b[0;34m(self, xy, text, font, anchor, spacing, align, direction, features, language, stroke_width, embedded_color)\u001b[0m\n\u001b[1;32m    669\u001b[0m     font \u001b[39m=\u001b[39m \u001b[39mself\u001b[39m\u001b[39m.\u001b[39mgetfont()\n\u001b[1;32m    670\u001b[0m \u001b[39mif\u001b[39;00m \u001b[39mnot\u001b[39;00m \u001b[39misinstance\u001b[39m(font, ImageFont\u001b[39m.\u001b[39mFreeTypeFont):\n\u001b[0;32m--> 671\u001b[0m     \u001b[39mraise\u001b[39;00m \u001b[39mValueError\u001b[39;00m(\u001b[39m\"\u001b[39m\u001b[39mOnly supported for TrueType fonts\u001b[39m\u001b[39m\"\u001b[39m)\n\u001b[1;32m    672\u001b[0m mode \u001b[39m=\u001b[39m \u001b[39m\"\u001b[39m\u001b[39mRGBA\u001b[39m\u001b[39m\"\u001b[39m \u001b[39mif\u001b[39;00m embedded_color \u001b[39melse\u001b[39;00m \u001b[39mself\u001b[39m\u001b[39m.\u001b[39mfontmode\n\u001b[1;32m    673\u001b[0m bbox \u001b[39m=\u001b[39m font\u001b[39m.\u001b[39mgetbbox(\n\u001b[1;32m    674\u001b[0m     text, mode, direction, features, language, stroke_width, anchor\n\u001b[1;32m    675\u001b[0m )\n",
      "\u001b[0;31mValueError\u001b[0m: Only supported for TrueType fonts"
     ]
    }
   ],
   "source": [
    "from wordcloud import WordCloud\n",
    "import matplotlib.pyplot as plt\n",
    "\n",
    "for cluster_label in range(k):\n",
    "    cluster_transactions = df[df['cluster_label'] == cluster_label]['NARATION_tokens'].tolist()\n",
    "    all_words = [word for tokens in cluster_transactions for word in tokens]\n",
    "\n",
    "    font_path = '/usr/share/fonts/truetype/dejavu/DejaVuSans.ttf'\n",
    "    wordcloud = WordCloud(width=800, height=400, background_color='white', font_path=font_path).generate(' '.join(all_words))\n",
    "    \n",
    "    # Plot the word cloud\n",
    "    plt.figure(figsize=(10, 6))\n",
    "    plt.imshow(wordcloud, interpolation='bilinear')\n",
    "    plt.title(f\"Cluster {cluster_label} Word Cloud\")\n",
    "    plt.axis('off')\n",
    "    plt.show()"
   ]
  },
  {
   "cell_type": "code",
   "execution_count": null,
   "metadata": {},
   "outputs": [],
   "source": []
  }
 ],
 "metadata": {
  "kernelspec": {
   "display_name": "Python 3",
   "language": "python",
   "name": "python3"
  },
  "language_info": {
   "codemirror_mode": {
    "name": "ipython",
    "version": 3
   },
   "file_extension": ".py",
   "mimetype": "text/x-python",
   "name": "python",
   "nbconvert_exporter": "python",
   "pygments_lexer": "ipython3",
   "version": "3.10.6"
  },
  "orig_nbformat": 4
 },
 "nbformat": 4,
 "nbformat_minor": 2
}
