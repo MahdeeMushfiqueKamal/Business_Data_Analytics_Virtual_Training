{
 "cells": [
  {
   "attachments": {},
   "cell_type": "markdown",
   "metadata": {},
   "source": [
    "## Importing Libraries and Data"
   ]
  },
  {
   "cell_type": "code",
   "execution_count": 1,
   "metadata": {},
   "outputs": [
    {
     "name": "stderr",
     "output_type": "stream",
     "text": [
      "[nltk_data] Downloading package punkt to /home/mmk/nltk_data...\n",
      "[nltk_data]   Package punkt is already up-to-date!\n",
      "[nltk_data] Downloading package wordnet to /home/mmk/nltk_data...\n",
      "[nltk_data]   Package wordnet is already up-to-date!\n",
      "[nltk_data] Downloading package stopwords to /home/mmk/nltk_data...\n",
      "[nltk_data]   Package stopwords is already up-to-date!\n"
     ]
    }
   ],
   "source": [
    "import numpy as np\n",
    "import pandas as pd\n",
    "import matplotlib.pyplot as plt\n",
    "import seaborn as sns\n",
    "import re\n",
    "import nltk\n",
    "from nltk.stem import PorterStemmer\n",
    "from nltk.stem import WordNetLemmatizer\n",
    "from nltk.corpus import stopwords\n",
    "\n",
    "# Download the NLTK stemmer data\n",
    "nltk.download(\"punkt\")\n",
    "# Download the NLTK lemmatizer data\n",
    "nltk.download(\"wordnet\")\n",
    "# Download the stop words\n",
    "nltk.download(\"stopwords\")\n",
    "stop_words = set(stopwords.words(\"english\"))"
   ]
  },
  {
   "cell_type": "code",
   "execution_count": 2,
   "metadata": {},
   "outputs": [],
   "source": [
    "def stem_token(token):\n",
    "    stemmer = PorterStemmer()\n",
    "    return stemmer.stem(token)\n",
    "\n",
    "\n",
    "def lemmatize_token(token):\n",
    "    lemmatizer = WordNetLemmatizer()\n",
    "    return lemmatizer.lemmatize(token)"
   ]
  },
  {
   "cell_type": "code",
   "execution_count": 3,
   "metadata": {},
   "outputs": [],
   "source": [
    "df_original = pd.read_csv(\"Transaction_Naration_Data_Set.csv\")"
   ]
  },
  {
   "cell_type": "code",
   "execution_count": 4,
   "metadata": {},
   "outputs": [
    {
     "name": "stdout",
     "output_type": "stream",
     "text": [
      "Shape:  (22546758, 6)\n",
      "<class 'pandas.core.frame.DataFrame'>\n",
      "RangeIndex: 22546758 entries, 0 to 22546757\n",
      "Data columns (total 6 columns):\n",
      " #   Column      Dtype  \n",
      "---  ------      -----  \n",
      " 0   Unnamed: 0  int64  \n",
      " 1   AC_ID       int64  \n",
      " 2   AMOUNT      float64\n",
      " 3   DOC_DATE    object \n",
      " 4   NARATION    object \n",
      " 5   DR_CR       object \n",
      "dtypes: float64(1), int64(2), object(3)\n",
      "memory usage: 1.0+ GB\n",
      "Info:\n",
      " None\n"
     ]
    }
   ],
   "source": [
    "print(\"Shape: \", df_original.shape)\n",
    "print(\"Info:\\n\", df_original.info())"
   ]
  },
  {
   "cell_type": "code",
   "execution_count": 5,
   "metadata": {},
   "outputs": [
    {
     "data": {
      "text/html": [
       "<div>\n",
       "<style scoped>\n",
       "    .dataframe tbody tr th:only-of-type {\n",
       "        vertical-align: middle;\n",
       "    }\n",
       "\n",
       "    .dataframe tbody tr th {\n",
       "        vertical-align: top;\n",
       "    }\n",
       "\n",
       "    .dataframe thead th {\n",
       "        text-align: right;\n",
       "    }\n",
       "</style>\n",
       "<table border=\"1\" class=\"dataframe\">\n",
       "  <thead>\n",
       "    <tr style=\"text-align: right;\">\n",
       "      <th></th>\n",
       "      <th>Unnamed: 0</th>\n",
       "      <th>AC_ID</th>\n",
       "      <th>AMOUNT</th>\n",
       "      <th>DOC_DATE</th>\n",
       "      <th>NARATION</th>\n",
       "      <th>DR_CR</th>\n",
       "    </tr>\n",
       "  </thead>\n",
       "  <tbody>\n",
       "    <tr>\n",
       "      <th>14430320</th>\n",
       "      <td>14430320</td>\n",
       "      <td>261502</td>\n",
       "      <td>50000.0</td>\n",
       "      <td>20-FEB-23</td>\n",
       "      <td>Fund Transfer</td>\n",
       "      <td>Credit</td>\n",
       "    </tr>\n",
       "    <tr>\n",
       "      <th>6521172</th>\n",
       "      <td>6521172</td>\n",
       "      <td>1012031</td>\n",
       "      <td>75000.0</td>\n",
       "      <td>26-DEC-22</td>\n",
       "      <td>Cash Withdraw</td>\n",
       "      <td>Debit</td>\n",
       "    </tr>\n",
       "    <tr>\n",
       "      <th>7762946</th>\n",
       "      <td>7762946</td>\n",
       "      <td>465981</td>\n",
       "      <td>723.0</td>\n",
       "      <td>01-JAN-23</td>\n",
       "      <td>Cash Deposit to A/C No.:</td>\n",
       "      <td>Debit</td>\n",
       "    </tr>\n",
       "    <tr>\n",
       "      <th>14816907</th>\n",
       "      <td>14816907</td>\n",
       "      <td>3354419</td>\n",
       "      <td>20000.0</td>\n",
       "      <td>25-FEB-23</td>\n",
       "      <td>Debit Against Debit Card Transaction</td>\n",
       "      <td>Debit</td>\n",
       "    </tr>\n",
       "    <tr>\n",
       "      <th>8353357</th>\n",
       "      <td>8353357</td>\n",
       "      <td>81222</td>\n",
       "      <td>1000.0</td>\n",
       "      <td>04-JAN-23</td>\n",
       "      <td>Cash Deposit to A/C No.:</td>\n",
       "      <td>Debit</td>\n",
       "    </tr>\n",
       "  </tbody>\n",
       "</table>\n",
       "</div>"
      ],
      "text/plain": [
       "          Unnamed: 0    AC_ID   AMOUNT   DOC_DATE  \\\n",
       "14430320    14430320   261502  50000.0  20-FEB-23   \n",
       "6521172      6521172  1012031  75000.0  26-DEC-22   \n",
       "7762946      7762946   465981    723.0  01-JAN-23   \n",
       "14816907    14816907  3354419  20000.0  25-FEB-23   \n",
       "8353357      8353357    81222   1000.0  04-JAN-23   \n",
       "\n",
       "                                      NARATION   DR_CR  \n",
       "14430320                         Fund Transfer  Credit  \n",
       "6521172                          Cash Withdraw   Debit  \n",
       "7762946              Cash Deposit to A/C No.:    Debit  \n",
       "14816907  Debit Against Debit Card Transaction   Debit  \n",
       "8353357              Cash Deposit to A/C No.:    Debit  "
      ]
     },
     "metadata": {},
     "output_type": "display_data"
    }
   ],
   "source": [
    "# Randomly select 10000 rows from the DataFrame\n",
    "df = df_original.sample(n=10000)\n",
    "display(df.head())"
   ]
  },
  {
   "cell_type": "code",
   "execution_count": 6,
   "metadata": {},
   "outputs": [
    {
     "name": "stdout",
     "output_type": "stream",
     "text": [
      "<class 'pandas.core.frame.DataFrame'>\n",
      "Int64Index: 10000 entries, 14430320 to 11772679\n",
      "Data columns (total 6 columns):\n",
      " #   Column      Non-Null Count  Dtype  \n",
      "---  ------      --------------  -----  \n",
      " 0   Unnamed: 0  10000 non-null  int64  \n",
      " 1   AC_ID       10000 non-null  int64  \n",
      " 2   AMOUNT      10000 non-null  float64\n",
      " 3   DOC_DATE    10000 non-null  object \n",
      " 4   NARATION    10000 non-null  object \n",
      " 5   DR_CR       10000 non-null  object \n",
      "dtypes: float64(1), int64(2), object(3)\n",
      "memory usage: 546.9+ KB\n"
     ]
    }
   ],
   "source": [
    "df.info()"
   ]
  },
  {
   "cell_type": "code",
   "execution_count": 7,
   "metadata": {},
   "outputs": [],
   "source": [
    "# drop the index column\n",
    "df = df.drop(columns=[\"Unnamed: 0\"])"
   ]
  },
  {
   "cell_type": "code",
   "execution_count": 8,
   "metadata": {},
   "outputs": [],
   "source": [
    "# converting DOC_DATE to datetime object\n",
    "df[\"DOC_DATE\"] = pd.to_datetime(df[\"DOC_DATE\"])\n",
    "\n",
    "# converting NARATION and DR_CR to string\n",
    "df[\"NARATION\"] = df[\"NARATION\"].astype(str)\n",
    "df[\"DR_CR\"] = df[\"DR_CR\"].astype(str)"
   ]
  },
  {
   "cell_type": "code",
   "execution_count": 9,
   "metadata": {},
   "outputs": [
    {
     "name": "stdout",
     "output_type": "stream",
     "text": [
      "<class 'pandas.core.frame.DataFrame'>\n",
      "Int64Index: 10000 entries, 14430320 to 11772679\n",
      "Data columns (total 5 columns):\n",
      " #   Column    Non-Null Count  Dtype         \n",
      "---  ------    --------------  -----         \n",
      " 0   AC_ID     10000 non-null  int64         \n",
      " 1   AMOUNT    10000 non-null  float64       \n",
      " 2   DOC_DATE  10000 non-null  datetime64[ns]\n",
      " 3   NARATION  10000 non-null  object        \n",
      " 4   DR_CR     10000 non-null  object        \n",
      "dtypes: datetime64[ns](1), float64(1), int64(1), object(2)\n",
      "memory usage: 468.8+ KB\n"
     ]
    }
   ],
   "source": [
    "df.info()"
   ]
  },
  {
   "cell_type": "code",
   "execution_count": 10,
   "metadata": {},
   "outputs": [
    {
     "data": {
      "text/plain": [
       "Credit Against Merchant Cash Withdraw Service From A/C-                                                        1055\n",
       "Debit Against Palli Bidyut Bill Collection.                                                                    1037\n",
       "Cash withdraw from Micro Merchant point, MM A/C                                                                1028\n",
       "Cash Withdrawal From A/C No.:                                                                                  1019\n",
       "Cash Withdraw                                                                                                   866\n",
       "                                                                                                               ... \n",
       "PARTIAL  LOAN INSTALLMENT REALIZED                                                                                1\n",
       "Hazera-                                                                                                           1\n",
       "RLP RD PHASE Loan disbursement from A/C  Title: RLP RD PHASE LOAN FUND TETULIA                                    1\n",
       "AGENT BANKING CASH DEPOSIT, SAVAR BRANCH                                                                          1\n",
       "Compensation Benefit of Shab-e- Barat payment Disbursement - from A/C  & A/C title Israq Spinning Mills Ltd       1\n",
       "Name: NARATION, Length: 423, dtype: int64"
      ]
     },
     "execution_count": 10,
     "metadata": {},
     "output_type": "execute_result"
    }
   ],
   "source": [
    "df.NARATION.value_counts()"
   ]
  },
  {
   "cell_type": "code",
   "execution_count": 11,
   "metadata": {},
   "outputs": [
    {
     "data": {
      "text/plain": [
       "Debit     6097\n",
       "Credit    3903\n",
       "Name: DR_CR, dtype: int64"
      ]
     },
     "execution_count": 11,
     "metadata": {},
     "output_type": "execute_result"
    }
   ],
   "source": [
    "df.DR_CR.value_counts()"
   ]
  },
  {
   "attachments": {},
   "cell_type": "markdown",
   "metadata": {},
   "source": [
    "## Text Preprocessing"
   ]
  },
  {
   "cell_type": "code",
   "execution_count": 12,
   "metadata": {},
   "outputs": [],
   "source": [
    "# Lowercasing\n",
    "df[\"NARATION\"] = df[\"NARATION\"].str.lower()"
   ]
  },
  {
   "cell_type": "code",
   "execution_count": 13,
   "metadata": {},
   "outputs": [],
   "source": [
    "# Removing special characters\n",
    "df[\"NARATION\"] = df[\"NARATION\"].str.replace(r\"[^a-zA-Z\\s]\", \"\", regex=True)"
   ]
  },
  {
   "cell_type": "code",
   "execution_count": 14,
   "metadata": {},
   "outputs": [],
   "source": [
    "# Removing punctuations\n",
    "df[\"NARATION\"] = df[\"NARATION\"].str.replace(r\"[^\\w\\s]\", \"\", regex=True)"
   ]
  },
  {
   "cell_type": "code",
   "execution_count": 15,
   "metadata": {},
   "outputs": [],
   "source": [
    "# Tokenization on cleaned text\n",
    "df[\"NARATION_tokens\"] = df[\"NARATION\"].str.split()"
   ]
  },
  {
   "cell_type": "code",
   "execution_count": 16,
   "metadata": {},
   "outputs": [],
   "source": [
    "# Stemming\n",
    "df[\"stemmed_tokens\"] = df[\"NARATION_tokens\"].apply(\n",
    "    lambda tokens: [stem_token(token) for token in tokens]\n",
    ")"
   ]
  },
  {
   "cell_type": "code",
   "execution_count": 17,
   "metadata": {},
   "outputs": [],
   "source": [
    "# Lemmatization\n",
    "df[\"lemmatized_tokens\"] = df[\"NARATION_tokens\"].apply(\n",
    "    lambda tokens: [lemmatize_token(token) for token in tokens]\n",
    ")"
   ]
  },
  {
   "cell_type": "code",
   "execution_count": 18,
   "metadata": {},
   "outputs": [],
   "source": [
    "# Removing stop words from the 'stemmed_tokens' column\n",
    "df[\"stemmed_tokens\"] = df[\"stemmed_tokens\"].apply(\n",
    "    lambda tokens: [token for token in tokens if token not in stop_words]\n",
    ")"
   ]
  },
  {
   "cell_type": "code",
   "execution_count": 19,
   "metadata": {},
   "outputs": [],
   "source": [
    "# Removing stop words from the 'lemmatized_tokens' column\n",
    "df[\"lemmatized_tokens\"] = df[\"lemmatized_tokens\"].apply(\n",
    "    lambda tokens: [token for token in tokens if token not in stop_words]\n",
    ")"
   ]
  },
  {
   "cell_type": "code",
   "execution_count": 20,
   "metadata": {},
   "outputs": [
    {
     "data": {
      "text/html": [
       "<div>\n",
       "<style scoped>\n",
       "    .dataframe tbody tr th:only-of-type {\n",
       "        vertical-align: middle;\n",
       "    }\n",
       "\n",
       "    .dataframe tbody tr th {\n",
       "        vertical-align: top;\n",
       "    }\n",
       "\n",
       "    .dataframe thead th {\n",
       "        text-align: right;\n",
       "    }\n",
       "</style>\n",
       "<table border=\"1\" class=\"dataframe\">\n",
       "  <thead>\n",
       "    <tr style=\"text-align: right;\">\n",
       "      <th></th>\n",
       "      <th>AC_ID</th>\n",
       "      <th>AMOUNT</th>\n",
       "      <th>DOC_DATE</th>\n",
       "      <th>NARATION</th>\n",
       "      <th>DR_CR</th>\n",
       "      <th>NARATION_tokens</th>\n",
       "      <th>stemmed_tokens</th>\n",
       "      <th>lemmatized_tokens</th>\n",
       "    </tr>\n",
       "  </thead>\n",
       "  <tbody>\n",
       "    <tr>\n",
       "      <th>14430320</th>\n",
       "      <td>261502</td>\n",
       "      <td>50000.0</td>\n",
       "      <td>2023-02-20</td>\n",
       "      <td>fund transfer</td>\n",
       "      <td>Credit</td>\n",
       "      <td>[fund, transfer]</td>\n",
       "      <td>[fund, transfer]</td>\n",
       "      <td>[fund, transfer]</td>\n",
       "    </tr>\n",
       "    <tr>\n",
       "      <th>6521172</th>\n",
       "      <td>1012031</td>\n",
       "      <td>75000.0</td>\n",
       "      <td>2022-12-26</td>\n",
       "      <td>cash withdraw</td>\n",
       "      <td>Debit</td>\n",
       "      <td>[cash, withdraw]</td>\n",
       "      <td>[cash, withdraw]</td>\n",
       "      <td>[cash, withdraw]</td>\n",
       "    </tr>\n",
       "    <tr>\n",
       "      <th>7762946</th>\n",
       "      <td>465981</td>\n",
       "      <td>723.0</td>\n",
       "      <td>2023-01-01</td>\n",
       "      <td>cash deposit to ac no</td>\n",
       "      <td>Debit</td>\n",
       "      <td>[cash, deposit, to, ac, no]</td>\n",
       "      <td>[cash, deposit, ac]</td>\n",
       "      <td>[cash, deposit, ac]</td>\n",
       "    </tr>\n",
       "    <tr>\n",
       "      <th>14816907</th>\n",
       "      <td>3354419</td>\n",
       "      <td>20000.0</td>\n",
       "      <td>2023-02-25</td>\n",
       "      <td>debit against debit card transaction</td>\n",
       "      <td>Debit</td>\n",
       "      <td>[debit, against, debit, card, transaction]</td>\n",
       "      <td>[debit, debit, card, transact]</td>\n",
       "      <td>[debit, debit, card, transaction]</td>\n",
       "    </tr>\n",
       "    <tr>\n",
       "      <th>8353357</th>\n",
       "      <td>81222</td>\n",
       "      <td>1000.0</td>\n",
       "      <td>2023-01-04</td>\n",
       "      <td>cash deposit to ac no</td>\n",
       "      <td>Debit</td>\n",
       "      <td>[cash, deposit, to, ac, no]</td>\n",
       "      <td>[cash, deposit, ac]</td>\n",
       "      <td>[cash, deposit, ac]</td>\n",
       "    </tr>\n",
       "  </tbody>\n",
       "</table>\n",
       "</div>"
      ],
      "text/plain": [
       "            AC_ID   AMOUNT   DOC_DATE                              NARATION  \\\n",
       "14430320   261502  50000.0 2023-02-20                         fund transfer   \n",
       "6521172   1012031  75000.0 2022-12-26                         cash withdraw   \n",
       "7762946    465981    723.0 2023-01-01                cash deposit to ac no    \n",
       "14816907  3354419  20000.0 2023-02-25  debit against debit card transaction   \n",
       "8353357     81222   1000.0 2023-01-04                cash deposit to ac no    \n",
       "\n",
       "           DR_CR                             NARATION_tokens  \\\n",
       "14430320  Credit                            [fund, transfer]   \n",
       "6521172    Debit                            [cash, withdraw]   \n",
       "7762946    Debit                 [cash, deposit, to, ac, no]   \n",
       "14816907   Debit  [debit, against, debit, card, transaction]   \n",
       "8353357    Debit                 [cash, deposit, to, ac, no]   \n",
       "\n",
       "                          stemmed_tokens                  lemmatized_tokens  \n",
       "14430320                [fund, transfer]                   [fund, transfer]  \n",
       "6521172                 [cash, withdraw]                   [cash, withdraw]  \n",
       "7762946              [cash, deposit, ac]                [cash, deposit, ac]  \n",
       "14816907  [debit, debit, card, transact]  [debit, debit, card, transaction]  \n",
       "8353357              [cash, deposit, ac]                [cash, deposit, ac]  "
      ]
     },
     "execution_count": 20,
     "metadata": {},
     "output_type": "execute_result"
    }
   ],
   "source": [
    "df.head()"
   ]
  }
 ],
 "metadata": {
  "kernelspec": {
   "display_name": "Python 3",
   "language": "python",
   "name": "python3"
  },
  "language_info": {
   "codemirror_mode": {
    "name": "ipython",
    "version": 3
   },
   "file_extension": ".py",
   "mimetype": "text/x-python",
   "name": "python",
   "nbconvert_exporter": "python",
   "pygments_lexer": "ipython3",
   "version": "3.10.6"
  },
  "orig_nbformat": 4
 },
 "nbformat": 4,
 "nbformat_minor": 2
}
